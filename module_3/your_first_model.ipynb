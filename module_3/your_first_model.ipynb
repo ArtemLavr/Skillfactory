{
 "cells": [
  {
   "cell_type": "markdown",
   "metadata": {},
   "source": [
    "# Загрузка Pandas и очистка данных"
   ]
  },
  {
   "cell_type": "code",
   "execution_count": 420,
   "metadata": {},
   "outputs": [],
   "source": [
    "import pandas as pd\n",
    "import numpy as np\n",
    "import matplotlib.pyplot as plt\n",
    "import seaborn as sbn\n",
    "from sklearn.preprocessing import OrdinalEncoder\n",
    "import ast\n",
    "import re\n",
    "from datetime import datetime"
   ]
  },
  {
   "cell_type": "code",
   "execution_count": 421,
   "metadata": {},
   "outputs": [],
   "source": [
    "df = pd.read_csv('main_task_new.csv')"
   ]
  },
  {
   "cell_type": "code",
   "execution_count": 422,
   "metadata": {},
   "outputs": [
    {
     "data": {
      "text/html": [
       "<div>\n",
       "<style scoped>\n",
       "    .dataframe tbody tr th:only-of-type {\n",
       "        vertical-align: middle;\n",
       "    }\n",
       "\n",
       "    .dataframe tbody tr th {\n",
       "        vertical-align: top;\n",
       "    }\n",
       "\n",
       "    .dataframe thead th {\n",
       "        text-align: right;\n",
       "    }\n",
       "</style>\n",
       "<table border=\"1\" class=\"dataframe\">\n",
       "  <thead>\n",
       "    <tr style=\"text-align: right;\">\n",
       "      <th></th>\n",
       "      <th>Restaurant_id</th>\n",
       "      <th>City</th>\n",
       "      <th>Cuisine Style</th>\n",
       "      <th>Ranking</th>\n",
       "      <th>Rating</th>\n",
       "      <th>Price Range</th>\n",
       "      <th>Number of Reviews</th>\n",
       "      <th>Reviews</th>\n",
       "      <th>URL_TA</th>\n",
       "      <th>ID_TA</th>\n",
       "    </tr>\n",
       "  </thead>\n",
       "  <tbody>\n",
       "    <tr>\n",
       "      <th>1592</th>\n",
       "      <td>id_3048</td>\n",
       "      <td>Lisbon</td>\n",
       "      <td>NaN</td>\n",
       "      <td>3051.0</td>\n",
       "      <td>4.0</td>\n",
       "      <td>NaN</td>\n",
       "      <td>13.0</td>\n",
       "      <td>[['Good range of products to enjoy. Managemen....</td>\n",
       "      <td>/Restaurant_Review-g189158-d8692873-Reviews-Ba...</td>\n",
       "      <td>d8692873</td>\n",
       "    </tr>\n",
       "    <tr>\n",
       "      <th>4000</th>\n",
       "      <td>id_215</td>\n",
       "      <td>Lisbon</td>\n",
       "      <td>['Tibetan', 'Indian', 'Nepali', 'Vegetarian Fr...</td>\n",
       "      <td>216.0</td>\n",
       "      <td>5.0</td>\n",
       "      <td>$</td>\n",
       "      <td>206.0</td>\n",
       "      <td>[['Fantastic value and even better food', 'Bes...</td>\n",
       "      <td>/Restaurant_Review-g189158-d9871750-Reviews-Ya...</td>\n",
       "      <td>d9871750</td>\n",
       "    </tr>\n",
       "    <tr>\n",
       "      <th>5635</th>\n",
       "      <td>id_279</td>\n",
       "      <td>Bratislava</td>\n",
       "      <td>NaN</td>\n",
       "      <td>280.0</td>\n",
       "      <td>4.5</td>\n",
       "      <td>NaN</td>\n",
       "      <td>5.0</td>\n",
       "      <td>[['Absolutely fantastic. Do not miss it!', 'Me...</td>\n",
       "      <td>/Restaurant_Review-g274924-d13323825-Reviews-T...</td>\n",
       "      <td>d13323825</td>\n",
       "    </tr>\n",
       "    <tr>\n",
       "      <th>7866</th>\n",
       "      <td>id_1165</td>\n",
       "      <td>Lisbon</td>\n",
       "      <td>['Mediterranean', 'Bar', 'Portuguese', 'Vegeta...</td>\n",
       "      <td>1166.0</td>\n",
       "      <td>3.5</td>\n",
       "      <td>$$ - $$$</td>\n",
       "      <td>190.0</td>\n",
       "      <td>[['Great style but little substance', 'Beautif...</td>\n",
       "      <td>/Restaurant_Review-g189158-d12700473-Reviews-S...</td>\n",
       "      <td>d12700473</td>\n",
       "    </tr>\n",
       "    <tr>\n",
       "      <th>8135</th>\n",
       "      <td>id_82</td>\n",
       "      <td>Bratislava</td>\n",
       "      <td>['Bar', 'Pub', 'Central European', 'European']</td>\n",
       "      <td>83.0</td>\n",
       "      <td>4.0</td>\n",
       "      <td>$</td>\n",
       "      <td>139.0</td>\n",
       "      <td>[['Interesting Bar', 'Great place to stop by f...</td>\n",
       "      <td>/Restaurant_Review-g274924-d740039-Reviews-KGB...</td>\n",
       "      <td>d740039</td>\n",
       "    </tr>\n",
       "    <tr>\n",
       "      <th>10600</th>\n",
       "      <td>id_158</td>\n",
       "      <td>Brussels</td>\n",
       "      <td>['Belgian', 'Pub', 'European']</td>\n",
       "      <td>159.0</td>\n",
       "      <td>4.5</td>\n",
       "      <td>$</td>\n",
       "      <td>94.0</td>\n",
       "      <td>[['Cool old tavern.', 'BEST EXPERIENCE !'], ['...</td>\n",
       "      <td>/Restaurant_Review-g188644-d7349890-Reviews-A_...</td>\n",
       "      <td>d7349890</td>\n",
       "    </tr>\n",
       "    <tr>\n",
       "      <th>12019</th>\n",
       "      <td>id_2928</td>\n",
       "      <td>Brussels</td>\n",
       "      <td>NaN</td>\n",
       "      <td>2929.0</td>\n",
       "      <td>2.0</td>\n",
       "      <td>NaN</td>\n",
       "      <td>131.0</td>\n",
       "      <td>[['Not worthy', 'Horrid!'], ['02/26/2018', '01...</td>\n",
       "      <td>/Restaurant_Review-g188644-d1763898-Reviews-Le...</td>\n",
       "      <td>d1763898</td>\n",
       "    </tr>\n",
       "    <tr>\n",
       "      <th>15088</th>\n",
       "      <td>id_47</td>\n",
       "      <td>Oporto</td>\n",
       "      <td>['Mediterranean', 'European', 'Portuguese', 'V...</td>\n",
       "      <td>48.0</td>\n",
       "      <td>4.5</td>\n",
       "      <td>$$ - $$$</td>\n",
       "      <td>347.0</td>\n",
       "      <td>[['Inspiring and fresh food!', 'So happy we fo...</td>\n",
       "      <td>/Restaurant_Review-g189180-d7243143-Reviews-Br...</td>\n",
       "      <td>d7243143</td>\n",
       "    </tr>\n",
       "    <tr>\n",
       "      <th>17447</th>\n",
       "      <td>id_424</td>\n",
       "      <td>Bratislava</td>\n",
       "      <td>['Pizza']</td>\n",
       "      <td>425.0</td>\n",
       "      <td>4.5</td>\n",
       "      <td>NaN</td>\n",
       "      <td>7.0</td>\n",
       "      <td>[['Good value, good food and service', 'Best p...</td>\n",
       "      <td>/Restaurant_Review-g274924-d4308616-Reviews-Pi...</td>\n",
       "      <td>d4308616</td>\n",
       "    </tr>\n",
       "    <tr>\n",
       "      <th>18511</th>\n",
       "      <td>id_20</td>\n",
       "      <td>Lisbon</td>\n",
       "      <td>['Seafood', 'Mediterranean', 'European', 'Port...</td>\n",
       "      <td>21.0</td>\n",
       "      <td>4.5</td>\n",
       "      <td>$$ - $$$</td>\n",
       "      <td>2253.0</td>\n",
       "      <td>[['Great', 'High Class Restaurant'], ['02/26/2...</td>\n",
       "      <td>/Restaurant_Review-g189158-d2308921-Reviews-Fr...</td>\n",
       "      <td>d2308921</td>\n",
       "    </tr>\n",
       "    <tr>\n",
       "      <th>19050</th>\n",
       "      <td>id_149</td>\n",
       "      <td>Lisbon</td>\n",
       "      <td>['European', 'Portuguese', 'Steakhouse', 'Medi...</td>\n",
       "      <td>150.0</td>\n",
       "      <td>5.0</td>\n",
       "      <td>$$ - $$$</td>\n",
       "      <td>98.0</td>\n",
       "      <td>[['Fantastic food and amazing serves', 'So goo...</td>\n",
       "      <td>/Restaurant_Review-g189158-d13340325-Reviews-O...</td>\n",
       "      <td>d13340325</td>\n",
       "    </tr>\n",
       "    <tr>\n",
       "      <th>22263</th>\n",
       "      <td>id_201</td>\n",
       "      <td>Lisbon</td>\n",
       "      <td>['Italian', 'Mediterranean', 'European', 'Vege...</td>\n",
       "      <td>202.0</td>\n",
       "      <td>4.5</td>\n",
       "      <td>$$ - $$$</td>\n",
       "      <td>695.0</td>\n",
       "      <td>[['Great find', 'Tasty Food, English speaking ...</td>\n",
       "      <td>/Restaurant_Review-g189158-d1571546-Reviews-Li...</td>\n",
       "      <td>d1571546</td>\n",
       "    </tr>\n",
       "    <tr>\n",
       "      <th>22880</th>\n",
       "      <td>id_66</td>\n",
       "      <td>Lisbon</td>\n",
       "      <td>['Contemporary', 'Peruvian', 'Seafood', 'Inter...</td>\n",
       "      <td>67.0</td>\n",
       "      <td>4.5</td>\n",
       "      <td>$$ - $$$</td>\n",
       "      <td>1414.0</td>\n",
       "      <td>[['Fantastic!', 'Ummm...yums so happy!'], ['02...</td>\n",
       "      <td>/Restaurant_Review-g189158-d7591161-Reviews-A_...</td>\n",
       "      <td>d7591161</td>\n",
       "    </tr>\n",
       "    <tr>\n",
       "      <th>24797</th>\n",
       "      <td>id_657</td>\n",
       "      <td>Lisbon</td>\n",
       "      <td>['Bar', 'Cafe', 'Mediterranean', 'European', '...</td>\n",
       "      <td>658.0</td>\n",
       "      <td>4.5</td>\n",
       "      <td>$</td>\n",
       "      <td>127.0</td>\n",
       "      <td>[['Good experience overall', 'Brilliant'], ['0...</td>\n",
       "      <td>/Restaurant_Review-g189158-d6850379-Reviews-Jo...</td>\n",
       "      <td>d6850379</td>\n",
       "    </tr>\n",
       "    <tr>\n",
       "      <th>25110</th>\n",
       "      <td>id_468</td>\n",
       "      <td>Lisbon</td>\n",
       "      <td>['Bar', 'European', 'Portuguese', 'Vegetarian ...</td>\n",
       "      <td>469.0</td>\n",
       "      <td>3.5</td>\n",
       "      <td>$$ - $$$</td>\n",
       "      <td>1721.0</td>\n",
       "      <td>[['Great place and good service', 'It is what ...</td>\n",
       "      <td>/Restaurant_Review-g189158-d3505232-Reviews-Mu...</td>\n",
       "      <td>d3505232</td>\n",
       "    </tr>\n",
       "    <tr>\n",
       "      <th>25943</th>\n",
       "      <td>id_3656</td>\n",
       "      <td>Lisbon</td>\n",
       "      <td>NaN</td>\n",
       "      <td>3661.0</td>\n",
       "      <td>2.0</td>\n",
       "      <td>NaN</td>\n",
       "      <td>4.0</td>\n",
       "      <td>[['Omelete + fries + salad = 18 euros?', 'Pric...</td>\n",
       "      <td>/Restaurant_Review-g189158-d13207326-Reviews-R...</td>\n",
       "      <td>d13207326</td>\n",
       "    </tr>\n",
       "    <tr>\n",
       "      <th>26781</th>\n",
       "      <td>id_2</td>\n",
       "      <td>Brussels</td>\n",
       "      <td>['Brazilian', 'Seafood', 'European', 'Portugue...</td>\n",
       "      <td>3.0</td>\n",
       "      <td>4.5</td>\n",
       "      <td>$$ - $$$</td>\n",
       "      <td>428.0</td>\n",
       "      <td>[['Culinary happiness @ the heart of Brussels'...</td>\n",
       "      <td>/Restaurant_Review-g950780-d2600929-Reviews-Au...</td>\n",
       "      <td>d2600929</td>\n",
       "    </tr>\n",
       "    <tr>\n",
       "      <th>28928</th>\n",
       "      <td>id_71</td>\n",
       "      <td>Bratislava</td>\n",
       "      <td>['European', 'Pub', 'Czech', 'Eastern European...</td>\n",
       "      <td>72.0</td>\n",
       "      <td>4.0</td>\n",
       "      <td>$$ - $$$</td>\n",
       "      <td>240.0</td>\n",
       "      <td>[['Only Here for Drinks', 'Rainy afternoon in ...</td>\n",
       "      <td>/Restaurant_Review-g274924-d1630724-Reviews-Sl...</td>\n",
       "      <td>d1630724</td>\n",
       "    </tr>\n",
       "    <tr>\n",
       "      <th>29251</th>\n",
       "      <td>id_873</td>\n",
       "      <td>Oporto</td>\n",
       "      <td>['Steakhouse', 'European', 'Portuguese']</td>\n",
       "      <td>874.0</td>\n",
       "      <td>4.5</td>\n",
       "      <td>$$ - $$$</td>\n",
       "      <td>17.0</td>\n",
       "      <td>[['Great atmosphere and really good service!',...</td>\n",
       "      <td>/Restaurant_Review-g189180-d13286239-Reviews-T...</td>\n",
       "      <td>d13286239</td>\n",
       "    </tr>\n",
       "    <tr>\n",
       "      <th>30334</th>\n",
       "      <td>id_900</td>\n",
       "      <td>Oporto</td>\n",
       "      <td>['European', 'Portuguese']</td>\n",
       "      <td>901.0</td>\n",
       "      <td>3.5</td>\n",
       "      <td>$$ - $$$</td>\n",
       "      <td>50.0</td>\n",
       "      <td>[['Superb steak', 'Average'], ['02/26/2018', '...</td>\n",
       "      <td>/Restaurant_Review-g189180-d12652253-Reviews-C...</td>\n",
       "      <td>d12652253</td>\n",
       "    </tr>\n",
       "    <tr>\n",
       "      <th>33662</th>\n",
       "      <td>id_3111</td>\n",
       "      <td>Lisbon</td>\n",
       "      <td>NaN</td>\n",
       "      <td>3114.0</td>\n",
       "      <td>3.5</td>\n",
       "      <td>NaN</td>\n",
       "      <td>56.0</td>\n",
       "      <td>[['Pleasant and well-situated', 'Difficult to ...</td>\n",
       "      <td>/Restaurant_Review-g189158-d7992658-Reviews-Ca...</td>\n",
       "      <td>d7992658</td>\n",
       "    </tr>\n",
       "    <tr>\n",
       "      <th>37663</th>\n",
       "      <td>id_453</td>\n",
       "      <td>Lisbon</td>\n",
       "      <td>['European', 'International', 'Vegetarian Frie...</td>\n",
       "      <td>454.0</td>\n",
       "      <td>4.5</td>\n",
       "      <td>$$ - $$$</td>\n",
       "      <td>252.0</td>\n",
       "      <td>[['Overall really enjoyed', 'Yummi'], ['02/26/...</td>\n",
       "      <td>/Restaurant_Review-g189158-d6542275-Reviews-Pr...</td>\n",
       "      <td>d6542275</td>\n",
       "    </tr>\n",
       "    <tr>\n",
       "      <th>37689</th>\n",
       "      <td>id_2629</td>\n",
       "      <td>Lisbon</td>\n",
       "      <td>NaN</td>\n",
       "      <td>2632.0</td>\n",
       "      <td>5.0</td>\n",
       "      <td>NaN</td>\n",
       "      <td>14.0</td>\n",
       "      <td>[['Cozy and local!', 'Our Lisbon favorite'], [...</td>\n",
       "      <td>/Restaurant_Review-g189158-d10080181-Reviews-T...</td>\n",
       "      <td>d10080181</td>\n",
       "    </tr>\n",
       "    <tr>\n",
       "      <th>38749</th>\n",
       "      <td>id_1718</td>\n",
       "      <td>Brussels</td>\n",
       "      <td>['Japanese']</td>\n",
       "      <td>1719.0</td>\n",
       "      <td>4.0</td>\n",
       "      <td>$</td>\n",
       "      <td>16.0</td>\n",
       "      <td>[['Great lunch, easy options', 'Good Japanese ...</td>\n",
       "      <td>/Restaurant_Review-g188644-d7142540-Reviews-Mi...</td>\n",
       "      <td>d7142540</td>\n",
       "    </tr>\n",
       "  </tbody>\n",
       "</table>\n",
       "</div>"
      ],
      "text/plain": [
       "      Restaurant_id        City  \\\n",
       "1592        id_3048      Lisbon   \n",
       "4000         id_215      Lisbon   \n",
       "5635         id_279  Bratislava   \n",
       "7866        id_1165      Lisbon   \n",
       "8135          id_82  Bratislava   \n",
       "10600        id_158    Brussels   \n",
       "12019       id_2928    Brussels   \n",
       "15088         id_47      Oporto   \n",
       "17447        id_424  Bratislava   \n",
       "18511         id_20      Lisbon   \n",
       "19050        id_149      Lisbon   \n",
       "22263        id_201      Lisbon   \n",
       "22880         id_66      Lisbon   \n",
       "24797        id_657      Lisbon   \n",
       "25110        id_468      Lisbon   \n",
       "25943       id_3656      Lisbon   \n",
       "26781          id_2    Brussels   \n",
       "28928         id_71  Bratislava   \n",
       "29251        id_873      Oporto   \n",
       "30334        id_900      Oporto   \n",
       "33662       id_3111      Lisbon   \n",
       "37663        id_453      Lisbon   \n",
       "37689       id_2629      Lisbon   \n",
       "38749       id_1718    Brussels   \n",
       "\n",
       "                                           Cuisine Style  Ranking  Rating  \\\n",
       "1592                                                 NaN   3051.0     4.0   \n",
       "4000   ['Tibetan', 'Indian', 'Nepali', 'Vegetarian Fr...    216.0     5.0   \n",
       "5635                                                 NaN    280.0     4.5   \n",
       "7866   ['Mediterranean', 'Bar', 'Portuguese', 'Vegeta...   1166.0     3.5   \n",
       "8135      ['Bar', 'Pub', 'Central European', 'European']     83.0     4.0   \n",
       "10600                     ['Belgian', 'Pub', 'European']    159.0     4.5   \n",
       "12019                                                NaN   2929.0     2.0   \n",
       "15088  ['Mediterranean', 'European', 'Portuguese', 'V...     48.0     4.5   \n",
       "17447                                          ['Pizza']    425.0     4.5   \n",
       "18511  ['Seafood', 'Mediterranean', 'European', 'Port...     21.0     4.5   \n",
       "19050  ['European', 'Portuguese', 'Steakhouse', 'Medi...    150.0     5.0   \n",
       "22263  ['Italian', 'Mediterranean', 'European', 'Vege...    202.0     4.5   \n",
       "22880  ['Contemporary', 'Peruvian', 'Seafood', 'Inter...     67.0     4.5   \n",
       "24797  ['Bar', 'Cafe', 'Mediterranean', 'European', '...    658.0     4.5   \n",
       "25110  ['Bar', 'European', 'Portuguese', 'Vegetarian ...    469.0     3.5   \n",
       "25943                                                NaN   3661.0     2.0   \n",
       "26781  ['Brazilian', 'Seafood', 'European', 'Portugue...      3.0     4.5   \n",
       "28928  ['European', 'Pub', 'Czech', 'Eastern European...     72.0     4.0   \n",
       "29251           ['Steakhouse', 'European', 'Portuguese']    874.0     4.5   \n",
       "30334                         ['European', 'Portuguese']    901.0     3.5   \n",
       "33662                                                NaN   3114.0     3.5   \n",
       "37663  ['European', 'International', 'Vegetarian Frie...    454.0     4.5   \n",
       "37689                                                NaN   2632.0     5.0   \n",
       "38749                                       ['Japanese']   1719.0     4.0   \n",
       "\n",
       "      Price Range  Number of Reviews  \\\n",
       "1592          NaN               13.0   \n",
       "4000            $              206.0   \n",
       "5635          NaN                5.0   \n",
       "7866     $$ - $$$              190.0   \n",
       "8135            $              139.0   \n",
       "10600           $               94.0   \n",
       "12019         NaN              131.0   \n",
       "15088    $$ - $$$              347.0   \n",
       "17447         NaN                7.0   \n",
       "18511    $$ - $$$             2253.0   \n",
       "19050    $$ - $$$               98.0   \n",
       "22263    $$ - $$$              695.0   \n",
       "22880    $$ - $$$             1414.0   \n",
       "24797           $              127.0   \n",
       "25110    $$ - $$$             1721.0   \n",
       "25943         NaN                4.0   \n",
       "26781    $$ - $$$              428.0   \n",
       "28928    $$ - $$$              240.0   \n",
       "29251    $$ - $$$               17.0   \n",
       "30334    $$ - $$$               50.0   \n",
       "33662         NaN               56.0   \n",
       "37663    $$ - $$$              252.0   \n",
       "37689         NaN               14.0   \n",
       "38749           $               16.0   \n",
       "\n",
       "                                                 Reviews  \\\n",
       "1592   [['Good range of products to enjoy. Managemen....   \n",
       "4000   [['Fantastic value and even better food', 'Bes...   \n",
       "5635   [['Absolutely fantastic. Do not miss it!', 'Me...   \n",
       "7866   [['Great style but little substance', 'Beautif...   \n",
       "8135   [['Interesting Bar', 'Great place to stop by f...   \n",
       "10600  [['Cool old tavern.', 'BEST EXPERIENCE !'], ['...   \n",
       "12019  [['Not worthy', 'Horrid!'], ['02/26/2018', '01...   \n",
       "15088  [['Inspiring and fresh food!', 'So happy we fo...   \n",
       "17447  [['Good value, good food and service', 'Best p...   \n",
       "18511  [['Great', 'High Class Restaurant'], ['02/26/2...   \n",
       "19050  [['Fantastic food and amazing serves', 'So goo...   \n",
       "22263  [['Great find', 'Tasty Food, English speaking ...   \n",
       "22880  [['Fantastic!', 'Ummm...yums so happy!'], ['02...   \n",
       "24797  [['Good experience overall', 'Brilliant'], ['0...   \n",
       "25110  [['Great place and good service', 'It is what ...   \n",
       "25943  [['Omelete + fries + salad = 18 euros?', 'Pric...   \n",
       "26781  [['Culinary happiness @ the heart of Brussels'...   \n",
       "28928  [['Only Here for Drinks', 'Rainy afternoon in ...   \n",
       "29251  [['Great atmosphere and really good service!',...   \n",
       "30334  [['Superb steak', 'Average'], ['02/26/2018', '...   \n",
       "33662  [['Pleasant and well-situated', 'Difficult to ...   \n",
       "37663  [['Overall really enjoyed', 'Yummi'], ['02/26/...   \n",
       "37689  [['Cozy and local!', 'Our Lisbon favorite'], [...   \n",
       "38749  [['Great lunch, easy options', 'Good Japanese ...   \n",
       "\n",
       "                                                  URL_TA      ID_TA  \n",
       "1592   /Restaurant_Review-g189158-d8692873-Reviews-Ba...   d8692873  \n",
       "4000   /Restaurant_Review-g189158-d9871750-Reviews-Ya...   d9871750  \n",
       "5635   /Restaurant_Review-g274924-d13323825-Reviews-T...  d13323825  \n",
       "7866   /Restaurant_Review-g189158-d12700473-Reviews-S...  d12700473  \n",
       "8135   /Restaurant_Review-g274924-d740039-Reviews-KGB...    d740039  \n",
       "10600  /Restaurant_Review-g188644-d7349890-Reviews-A_...   d7349890  \n",
       "12019  /Restaurant_Review-g188644-d1763898-Reviews-Le...   d1763898  \n",
       "15088  /Restaurant_Review-g189180-d7243143-Reviews-Br...   d7243143  \n",
       "17447  /Restaurant_Review-g274924-d4308616-Reviews-Pi...   d4308616  \n",
       "18511  /Restaurant_Review-g189158-d2308921-Reviews-Fr...   d2308921  \n",
       "19050  /Restaurant_Review-g189158-d13340325-Reviews-O...  d13340325  \n",
       "22263  /Restaurant_Review-g189158-d1571546-Reviews-Li...   d1571546  \n",
       "22880  /Restaurant_Review-g189158-d7591161-Reviews-A_...   d7591161  \n",
       "24797  /Restaurant_Review-g189158-d6850379-Reviews-Jo...   d6850379  \n",
       "25110  /Restaurant_Review-g189158-d3505232-Reviews-Mu...   d3505232  \n",
       "25943  /Restaurant_Review-g189158-d13207326-Reviews-R...  d13207326  \n",
       "26781  /Restaurant_Review-g950780-d2600929-Reviews-Au...   d2600929  \n",
       "28928  /Restaurant_Review-g274924-d1630724-Reviews-Sl...   d1630724  \n",
       "29251  /Restaurant_Review-g189180-d13286239-Reviews-T...  d13286239  \n",
       "30334  /Restaurant_Review-g189180-d12652253-Reviews-C...  d12652253  \n",
       "33662  /Restaurant_Review-g189158-d7992658-Reviews-Ca...   d7992658  \n",
       "37663  /Restaurant_Review-g189158-d6542275-Reviews-Pr...   d6542275  \n",
       "37689  /Restaurant_Review-g189158-d10080181-Reviews-T...  d10080181  \n",
       "38749  /Restaurant_Review-g188644-d7142540-Reviews-Mi...   d7142540  "
      ]
     },
     "execution_count": 422,
     "metadata": {},
     "output_type": "execute_result"
    }
   ],
   "source": [
    "df[df.Reviews.str.contains('02/26/2018')]"
   ]
  },
  {
   "cell_type": "code",
   "execution_count": 423,
   "metadata": {},
   "outputs": [],
   "source": [
    "def rewiew(row):\n",
    "    res = re.findall(\"\\[(.*?)\\]\",row)\n",
    "\n",
    "    r = res[0].split(\",\")\n",
    "    d = res[1].split(\",\")\n",
    "    return list(zip(r,d))\n"
   ]
  },
  {
   "cell_type": "code",
   "execution_count": 424,
   "metadata": {},
   "outputs": [],
   "source": [
    "df.Reviews = df.Reviews.apply(lambda x: rewiew(x))"
   ]
  },
  {
   "cell_type": "code",
   "execution_count": 425,
   "metadata": {},
   "outputs": [],
   "source": [
    "df = df.explode('Reviews')"
   ]
  },
  {
   "cell_type": "code",
   "execution_count": 426,
   "metadata": {},
   "outputs": [],
   "source": [
    "df[['Review', 'Review_Date']] = pd.DataFrame(df['Reviews'].tolist(), index=df.index)"
   ]
  },
  {
   "cell_type": "code",
   "execution_count": 427,
   "metadata": {
    "scrolled": true
   },
   "outputs": [],
   "source": [
    "df.drop('Reviews', axis=1, inplace=True)"
   ]
  },
  {
   "cell_type": "code",
   "execution_count": 428,
   "metadata": {},
   "outputs": [],
   "source": [
    "r = re.compile(r'(\\d+\\/\\d+\\/\\d+)')\n",
    "df.Review_Date = df.Review_Date.apply(lambda x: r.findall(x)[0] if bool(r.findall(x)) else np.NaN)"
   ]
  },
  {
   "cell_type": "code",
   "execution_count": 429,
   "metadata": {},
   "outputs": [],
   "source": [
    "df = df[df.Review_Date.notna()]"
   ]
  },
  {
   "cell_type": "code",
   "execution_count": 430,
   "metadata": {},
   "outputs": [],
   "source": [
    "def strtodate(s):\n",
    "    try:\n",
    "        return datetime.strptime(s, '%m/%d/%Y')\n",
    "    except:\n",
    "        return np.NaN"
   ]
  },
  {
   "cell_type": "code",
   "execution_count": 431,
   "metadata": {
    "scrolled": true
   },
   "outputs": [],
   "source": [
    "df.Review_Date =pd.to_datetime(df['Review_Date'], format='%m/%d/%Y')"
   ]
  },
  {
   "cell_type": "code",
   "execution_count": 432,
   "metadata": {},
   "outputs": [
    {
     "data": {
      "text/plain": [
       "Restaurant_id                object\n",
       "City                         object\n",
       "Cuisine Style                object\n",
       "Ranking                     float64\n",
       "Rating                      float64\n",
       "Price Range                  object\n",
       "Number of Reviews           float64\n",
       "URL_TA                       object\n",
       "ID_TA                        object\n",
       "Review                       object\n",
       "Review_Date          datetime64[ns]\n",
       "dtype: object"
      ]
     },
     "execution_count": 432,
     "metadata": {},
     "output_type": "execute_result"
    }
   ],
   "source": [
    "df.dtypes"
   ]
  },
  {
   "cell_type": "code",
   "execution_count": 433,
   "metadata": {},
   "outputs": [
    {
     "data": {
      "text/plain": [
       "37913   2004-04-21\n",
       "11140   2007-11-14\n",
       "37862   2007-11-21\n",
       "6565    2007-11-23\n",
       "34413   2007-12-08\n",
       "           ...    \n",
       "26781   2018-02-26\n",
       "25943   2018-02-26\n",
       "37689   2018-02-26\n",
       "24797   2018-02-26\n",
       "22263   2018-02-26\n",
       "Name: Review_Date, Length: 62501, dtype: datetime64[ns]"
      ]
     },
     "execution_count": 433,
     "metadata": {},
     "output_type": "execute_result"
    }
   ],
   "source": [
    "df.Review_Date.sort_values()"
   ]
  },
  {
   "cell_type": "code",
   "execution_count": 223,
   "metadata": {},
   "outputs": [
    {
     "data": {
      "text/plain": [
       "Restaurant_id        False\n",
       "City                 False\n",
       "Cuisine Style         True\n",
       "Ranking              False\n",
       "Rating               False\n",
       "Price Range           True\n",
       "Number of Reviews     True\n",
       "Reviews              False\n",
       "URL_TA               False\n",
       "ID_TA                False\n",
       "dtype: bool"
      ]
     },
     "execution_count": 223,
     "metadata": {},
     "output_type": "execute_result"
    }
   ],
   "source": [
    "df.isna().any()"
   ]
  },
  {
   "cell_type": "code",
   "execution_count": 225,
   "metadata": {},
   "outputs": [],
   "source": [
    "df['Cuisine Style'] = df['Cuisine Style'].fillna(\"['Vegetarian Friendly']\")\n",
    "df['Cuisine Style'] = df['Cuisine Style'].apply(lambda x: ast.literal_eval(x))\n",
    "df = df.explode('Cuisine Style')\n",
    "df['Cuisine Style'] = df['Cuisine Style'].apply(lambda x: x.strip())"
   ]
  },
  {
   "cell_type": "code",
   "execution_count": 226,
   "metadata": {},
   "outputs": [
    {
     "data": {
      "text/plain": [
       "125"
      ]
     },
     "execution_count": 226,
     "metadata": {},
     "output_type": "execute_result"
    }
   ],
   "source": [
    "len(df['Cuisine Style'].unique())"
   ]
  },
  {
   "cell_type": "code",
   "execution_count": 191,
   "metadata": {},
   "outputs": [],
   "source": [
    "df['Number of Reviews'] = df['Number of Reviews'].fillna(df['Number of Reviews'].mean())"
   ]
  },
  {
   "cell_type": "code",
   "execution_count": 192,
   "metadata": {},
   "outputs": [],
   "source": [
    "df = df[df['Price Range'].notna()]"
   ]
  },
  {
   "cell_type": "code",
   "execution_count": 193,
   "metadata": {},
   "outputs": [
    {
     "data": {
      "text/plain": [
       "array(['$$ - $$$', '$$$$', '$'], dtype=object)"
      ]
     },
     "execution_count": 193,
     "metadata": {},
     "output_type": "execute_result"
    }
   ],
   "source": [
    "df['Price Range'].unique()"
   ]
  },
  {
   "cell_type": "code",
   "execution_count": 194,
   "metadata": {},
   "outputs": [
    {
     "name": "stderr",
     "output_type": "stream",
     "text": [
      "/tmp/ipykernel_5049/3664601459.py:1: SettingWithCopyWarning: \n",
      "A value is trying to be set on a copy of a slice from a DataFrame\n",
      "\n",
      "See the caveats in the documentation: https://pandas.pydata.org/pandas-docs/stable/user_guide/indexing.html#returning-a-view-versus-a-copy\n",
      "  df['Price Range'].replace(['$','$$ - $$$', '$$$$'],\n"
     ]
    }
   ],
   "source": [
    "df['Price Range'].replace(['$','$$ - $$$', '$$$$'],\n",
    "                           [1,2,3], inplace=True)"
   ]
  },
  {
   "cell_type": "code",
   "execution_count": 195,
   "metadata": {},
   "outputs": [
    {
     "data": {
      "text/plain": [
       "{'whiskers': [<matplotlib.lines.Line2D at 0x7f9817c82970>,\n",
       "  <matplotlib.lines.Line2D at 0x7f98181f3be0>],\n",
       " 'caps': [<matplotlib.lines.Line2D at 0x7f98181f3d00>,\n",
       "  <matplotlib.lines.Line2D at 0x7f98181f3d90>],\n",
       " 'boxes': [<matplotlib.lines.Line2D at 0x7f9817c82eb0>],\n",
       " 'medians': [<matplotlib.lines.Line2D at 0x7f98181f3eb0>],\n",
       " 'fliers': [<matplotlib.lines.Line2D at 0x7f98181f3ee0>],\n",
       " 'means': []}"
      ]
     },
     "execution_count": 195,
     "metadata": {},
     "output_type": "execute_result"
    },
    {
     "data": {
      "image/png": "[encoded data removed]",
      "text/plain": [
       "<Figure size 432x288 with 1 Axes>"
      ]
     },
     "metadata": {
      "needs_background": "light"
     },
     "output_type": "display_data"
    }
   ],
   "source": [
    "\n",
    "plt.boxplot(df['Ranking'])"
   ]
  },
  {
   "cell_type": "code",
   "execution_count": 196,
   "metadata": {},
   "outputs": [
    {
     "name": "stderr",
     "output_type": "stream",
     "text": [
      "/tmp/ipykernel_5049/2878080235.py:2: SettingWithCopyWarning: \n",
      "A value is trying to be set on a copy of a slice from a DataFrame.\n",
      "Try using .loc[row_indexer,col_indexer] = value instead\n",
      "\n",
      "See the caveats in the documentation: https://pandas.pydata.org/pandas-docs/stable/user_guide/indexing.html#returning-a-view-versus-a-copy\n",
      "  df['City'] = encod.fit_transform(df[['City']])\n"
     ]
    }
   ],
   "source": [
    "encod = OrdinalEncoder()\n",
    "df['City'] = encod.fit_transform(df[['City']])\n"
   ]
  },
  {
   "cell_type": "code",
   "execution_count": 197,
   "metadata": {},
   "outputs": [
    {
     "data": {
      "text/plain": [
       "31"
      ]
     },
     "execution_count": 197,
     "metadata": {},
     "output_type": "execute_result"
    }
   ],
   "source": [
    "len(df['City'].unique())"
   ]
  },
  {
   "cell_type": "code",
   "execution_count": 198,
   "metadata": {},
   "outputs": [
    {
     "name": "stderr",
     "output_type": "stream",
     "text": [
      "/tmp/ipykernel_5049/1443299056.py:1: SettingWithCopyWarning: \n",
      "A value is trying to be set on a copy of a slice from a DataFrame.\n",
      "Try using .loc[row_indexer,col_indexer] = value instead\n",
      "\n",
      "See the caveats in the documentation: https://pandas.pydata.org/pandas-docs/stable/user_guide/indexing.html#returning-a-view-versus-a-copy\n",
      "  df['Cuisine Style'] = df['Cuisine Style'].apply(lambda x: x[1:-1].split(','))\n"
     ]
    }
   ],
   "source": [
    "df['Cuisine Style'] = df['Cuisine Style'].apply(lambda x: x[1:-1].split(','))"
   ]
  },
  {
   "cell_type": "code",
   "execution_count": 199,
   "metadata": {},
   "outputs": [
    {
     "data": {
      "text/plain": [
       "3.3733629470781956"
      ]
     },
     "execution_count": 199,
     "metadata": {},
     "output_type": "execute_result"
    }
   ],
   "source": [
    "np.mean(df['Cuisine Style'].apply(lambda x: len(x)))"
   ]
  },
  {
   "cell_type": "code",
   "execution_count": 125,
   "metadata": {},
   "outputs": [],
   "source": [
    "df = df.explode('Cuisine Style')"
   ]
  },
  {
   "cell_type": "code",
   "execution_count": 126,
   "metadata": {},
   "outputs": [],
   "source": [
    "df.drop(['Reviews','URL_TA', 'ID_TA'], axis=1, inplace=True)"
   ]
  },
  {
   "cell_type": "code",
   "execution_count": 110,
   "metadata": {},
   "outputs": [],
   "source": [
    "df['Cuisine Style'] = encod.fit_transform(df[['Cuisine Style']])"
   ]
  },
  {
   "cell_type": "code",
   "execution_count": 128,
   "metadata": {},
   "outputs": [
    {
     "data": {
      "text/plain": [
       " 'Vegetarian Friendly'    10812\n",
       " 'European'                7606\n",
       "'Italian'                  4879\n",
       " 'Vegan Options'           4439\n",
       " 'Gluten Free Options'     4100\n",
       "                          ...  \n",
       " 'Salvadoran'                 1\n",
       "'Tibetan'                     1\n",
       "'Ethiopian'                   1\n",
       "'Balti'                       1\n",
       " 'Latvian'                    1\n",
       "Name: Cuisine Style, Length: 230, dtype: int64"
      ]
     },
     "execution_count": 128,
     "metadata": {},
     "output_type": "execute_result"
    }
   ],
   "source": [
    "df['Cuisine Style'].value_counts()"
   ]
  },
  {
   "cell_type": "code",
   "execution_count": 88,
   "metadata": {},
   "outputs": [
    {
     "data": {
      "text/plain": [
       "Restaurant_id        64499\n",
       "City                 64499\n",
       "Cuisine Style        64499\n",
       "Ranking              64499\n",
       "Rating               64499\n",
       "Price Range          64499\n",
       "Number of Reviews    64499\n",
       "dtype: int64"
      ]
     },
     "execution_count": 88,
     "metadata": {},
     "output_type": "execute_result"
    }
   ],
   "source": [
    "df[df['Price Range']==2].count()"
   ]
  },
  {
   "cell_type": "code",
   "execution_count": null,
   "metadata": {},
   "outputs": [],
   "source": []
  },
  {
   "cell_type": "markdown",
   "metadata": {},
   "source": [
    "# Разбиваем датафрейм на части, необходимые для обучения и тестирования модели"
   ]
  },
  {
   "cell_type": "code",
   "execution_count": 82,
   "metadata": {},
   "outputs": [],
   "source": [
    "# Х - данные с информацией о ресторанах, у - целевая переменная (рейтинги ресторанов)\n",
    "X = df.drop(['Restaurant_id', 'Rating'], axis = 1)\n",
    "y = df['Rating']"
   ]
  },
  {
   "cell_type": "code",
   "execution_count": 83,
   "metadata": {},
   "outputs": [],
   "source": [
    "# Загружаем специальный инструмент для разбивки:\n",
    "from sklearn.model_selection import train_test_split"
   ]
  },
  {
   "cell_type": "code",
   "execution_count": 84,
   "metadata": {},
   "outputs": [],
   "source": [
    "# Наборы данных с меткой \"train\" будут использоваться для обучения модели, \"test\" - для тестирования.\n",
    "# Для тестирования мы будем использовать 25% от исходного датасета.\n",
    "X_train, X_test, y_train, y_test = train_test_split(X, y, test_size=0.25)"
   ]
  },
  {
   "cell_type": "markdown",
   "metadata": {},
   "source": [
    "# Создаём, обучаем и тестируем модель"
   ]
  },
  {
   "cell_type": "code",
   "execution_count": 85,
   "metadata": {},
   "outputs": [],
   "source": [
    "# Импортируем необходимые библиотеки:\n",
    "from sklearn.ensemble import RandomForestRegressor # инструмент для создания и обучения модели\n",
    "from sklearn import metrics # инструменты для оценки точности модели"
   ]
  },
  {
   "cell_type": "code",
   "execution_count": 86,
   "metadata": {},
   "outputs": [],
   "source": [
    "# Создаём модель\n",
    "regr = RandomForestRegressor(n_estimators=100)\n",
    "\n",
    "# Обучаем модель на тестовом наборе данных\n",
    "regr.fit(X_train, y_train)\n",
    "\n",
    "# Используем обученную модель для предсказания рейтинга ресторанов в тестовой выборке.\n",
    "# Предсказанные значения записываем в переменную y_pred\n",
    "y_pred = regr.predict(X_test)"
   ]
  },
  {
   "cell_type": "code",
   "execution_count": 87,
   "metadata": {},
   "outputs": [
    {
     "name": "stdout",
     "output_type": "stream",
     "text": [
      "MAE: 0.07936180356899601\n"
     ]
    }
   ],
   "source": [
    "# Сравниваем предсказанные значения (y_pred) с реальными (y_test), и смотрим насколько они в среднем отличаются\n",
    "# Метрика называется Mean Absolute Error (MAE) и показывает среднее отклонение предсказанных значений от фактических.\n",
    "print('MAE:', metrics.mean_absolute_error(y_test, y_pred))"
   ]
  },
  {
   "cell_type": "code",
   "execution_count": null,
   "metadata": {},
   "outputs": [],
   "source": []
  }
 ],
 "metadata": {
  "kernelspec": {
   "display_name": "Python 3 (ipykernel)",
   "language": "python",
   "name": "python3"
  },
  "language_info": {
   "codemirror_mode": {
    "name": "ipython",
    "version": 3
   },
   "file_extension": ".py",
   "mimetype": "text/x-python",
   "name": "python",
   "nbconvert_exporter": "python",
   "pygments_lexer": "ipython3",
   "version": "3.9.7"
  }
 },
 "nbformat": 4,
 "nbformat_minor": 2
}
