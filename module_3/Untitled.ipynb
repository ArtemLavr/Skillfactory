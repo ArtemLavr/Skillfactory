{
 "cells": [
  {
   "cell_type": "code",
   "execution_count": 93,
   "id": "a23e166f",
   "metadata": {},
   "outputs": [],
   "source": [
    "import pandas as pd\n",
    "import numpy as np"
   ]
  },
  {
   "cell_type": "code",
   "execution_count": 94,
   "id": "88cfe2e3",
   "metadata": {},
   "outputs": [],
   "source": [
    "users = pd.read_csv(\"users.csv\", encoding='KOI8-R',  sep='\\t')\n",
    "users.columns  = ['user_id', 'email', 'geo']\n",
    "log = pd.read_csv(\"log.csv\", header=None)\n",
    "log.columns = ['user_id', 'time', 'bet', 'win']\n",
    "log.bet = log.bet.fillna(0)"
   ]
  },
  {
   "cell_type": "code",
   "execution_count": 95,
   "id": "247424b4",
   "metadata": {},
   "outputs": [],
   "source": [
    "def win_clear(row):\n",
    "    if pd.isna(row[3]) and row[2]==0:\n",
    "        row[3] = 0 \n",
    "    elif pd.isna(row[3]) and row[2]!=0:\n",
    "        row[3] = -row[2] \n",
    "    return row"
   ]
  },
  {
   "cell_type": "code",
   "execution_count": 96,
   "id": "ccc2c250",
   "metadata": {},
   "outputs": [],
   "source": [
    "new_win = log.apply(lambda row: win_clear(row), axis=1)  \n",
    "log['win'] = new_win.win"
   ]
  },
  {
   "cell_type": "code",
   "execution_count": 97,
   "id": "68ee1dbd",
   "metadata": {},
   "outputs": [],
   "source": [
    "users.user_id = users.user_id.apply(lambda x: x.lower())  \n",
    "# Избавимся от ошибок в user_id  \n",
    "log = log[log.user_id != '#error']  \n",
    "log.user_id = log.user_id.str.split(' - ').apply(lambda x: x[1])  \n",
    "log.columns = ['user_id', 'time', 'bet', 'win']  \n",
    "log['time'] = log['time'].apply(lambda x: x[1:])  \n",
    "log['time'] = pd.to_datetime(log['time'])  "
   ]
  },
  {
   "cell_type": "code",
   "execution_count": 98,
   "id": "dc579ebd",
   "metadata": {},
   "outputs": [],
   "source": [
    "df = pd.merge(users, log, on ='user_id')"
   ]
  },
  {
   "cell_type": "code",
   "execution_count": null,
   "id": "cb0fb9b3",
   "metadata": {},
   "outputs": [],
   "source": []
  },
  {
   "cell_type": "code",
   "execution_count": 89,
   "id": "8a90e0bd",
   "metadata": {},
   "outputs": [
    {
     "data": {
      "text/plain": [
       "127.81602335164835"
      ]
     },
     "execution_count": 89,
     "metadata": {},
     "output_type": "execute_result"
    }
   ],
   "source": [
    "df[df.bet>0].groupby('geo').bet.mean().max()/df[df.bet>0].groupby('geo').bet.mean().min()"
   ]
  },
  {
   "cell_type": "code",
   "execution_count": 91,
   "id": "f07689e3",
   "metadata": {},
   "outputs": [
    {
     "data": {
      "text/plain": [
       "geo\n",
       "Арзангелтск         96\n",
       "Воронеж             88\n",
       "Екатеринбург        49\n",
       "Ижевск              61\n",
       "Казань              66\n",
       "Краснодар           86\n",
       "Красноярск          56\n",
       "Москва              61\n",
       "Пермь               55\n",
       "Санкт-Петербург    115\n",
       "Ставрополь          36\n",
       "Тюмень              32\n",
       "Хабаровск           60\n",
       "Ярославль           89\n",
       "Name: user_id, dtype: int64"
      ]
     },
     "execution_count": 91,
     "metadata": {},
     "output_type": "execute_result"
    }
   ],
   "source": [
    "df.groupby('geo').user_id.count()"
   ]
  },
  {
   "cell_type": "code",
   "execution_count": 103,
   "id": "838c3da3",
   "metadata": {},
   "outputs": [
    {
     "data": {
      "text/plain": [
       "0      1\n",
       "1      1\n",
       "2      1\n",
       "3      1\n",
       "4      1\n",
       "      ..\n",
       "991    4\n",
       "992    4\n",
       "993    4\n",
       "994    4\n",
       "995    4\n",
       "Name: time, Length: 985, dtype: int64"
      ]
     },
     "execution_count": 103,
     "metadata": {},
     "output_type": "execute_result"
    }
   ],
   "source": [
    "\n",
    "log['time'].apply(lambda pandas_dataframe: pandas_dataframe.month)"
   ]
  },
  {
   "cell_type": "code",
   "execution_count": null,
   "id": "4644cbad",
   "metadata": {},
   "outputs": [],
   "source": []
  }
 ],
 "metadata": {
  "kernelspec": {
   "display_name": "Python 3",
   "language": "python",
   "name": "python3"
  },
  "language_info": {
   "codemirror_mode": {
    "name": "ipython",
    "version": 3
   },
   "file_extension": ".py",
   "mimetype": "text/x-python",
   "name": "python",
   "nbconvert_exporter": "python",
   "pygments_lexer": "ipython3",
   "version": "3.8.8"
  }
 },
 "nbformat": 4,
 "nbformat_minor": 5
}
