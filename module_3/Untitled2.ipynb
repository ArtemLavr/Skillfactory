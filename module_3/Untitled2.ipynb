{
 "cells": [
  {
   "cell_type": "code",
   "execution_count": 1,
   "id": "fc9d5d68",
   "metadata": {},
   "outputs": [],
   "source": [
    "# Загрузка библиотек\n",
    "import numpy as np # для работы с массивами\n",
    "import pandas as pd # для работы DataFrame \n",
    "import seaborn as sns # библиотека для визуализации статистических данных\n",
    "import matplotlib.pyplot as plt # для построения графиков\n",
    "\n",
    "%matplotlib inline"
   ]
  },
  {
   "cell_type": "code",
   "execution_count": 2,
   "id": "8f617ef7",
   "metadata": {},
   "outputs": [],
   "source": [
    "df=pd.read_csv('Admission_Predict_Ver1.1.csv')"
   ]
  },
  {
   "cell_type": "code",
   "execution_count": 4,
   "id": "0cb518c5",
   "metadata": {},
   "outputs": [
    {
     "data": {
      "text/plain": [
       "(500, 9)"
      ]
     },
     "execution_count": 4,
     "metadata": {},
     "output_type": "execute_result"
    }
   ],
   "source": [
    "df.shape"
   ]
  },
  {
   "cell_type": "code",
   "execution_count": 6,
   "id": "152fbec4",
   "metadata": {},
   "outputs": [
    {
     "data": {
      "text/html": [
       "<div>\n",
       "<style scoped>\n",
       "    .dataframe tbody tr th:only-of-type {\n",
       "        vertical-align: middle;\n",
       "    }\n",
       "\n",
       "    .dataframe tbody tr th {\n",
       "        vertical-align: top;\n",
       "    }\n",
       "\n",
       "    .dataframe thead th {\n",
       "        text-align: right;\n",
       "    }\n",
       "</style>\n",
       "<table border=\"1\" class=\"dataframe\">\n",
       "  <thead>\n",
       "    <tr style=\"text-align: right;\">\n",
       "      <th></th>\n",
       "      <th>Serial No.</th>\n",
       "      <th>GRE Score</th>\n",
       "      <th>TOEFL Score</th>\n",
       "      <th>University Rating</th>\n",
       "      <th>SOP</th>\n",
       "      <th>LOR</th>\n",
       "      <th>CGPA</th>\n",
       "      <th>Research</th>\n",
       "      <th>Chance of Admit</th>\n",
       "    </tr>\n",
       "  </thead>\n",
       "  <tbody>\n",
       "    <tr>\n",
       "      <th>Serial No.</th>\n",
       "      <td>1.000000</td>\n",
       "      <td>-0.103839</td>\n",
       "      <td>-0.141696</td>\n",
       "      <td>-0.067641</td>\n",
       "      <td>-0.137352</td>\n",
       "      <td>-0.003694</td>\n",
       "      <td>-0.074289</td>\n",
       "      <td>-0.005332</td>\n",
       "      <td>0.008505</td>\n",
       "    </tr>\n",
       "    <tr>\n",
       "      <th>GRE Score</th>\n",
       "      <td>-0.103839</td>\n",
       "      <td>1.000000</td>\n",
       "      <td>0.827200</td>\n",
       "      <td>0.635376</td>\n",
       "      <td>0.613498</td>\n",
       "      <td>0.524679</td>\n",
       "      <td>0.825878</td>\n",
       "      <td>0.563398</td>\n",
       "      <td>0.810351</td>\n",
       "    </tr>\n",
       "    <tr>\n",
       "      <th>TOEFL Score</th>\n",
       "      <td>-0.141696</td>\n",
       "      <td>0.827200</td>\n",
       "      <td>1.000000</td>\n",
       "      <td>0.649799</td>\n",
       "      <td>0.644410</td>\n",
       "      <td>0.541563</td>\n",
       "      <td>0.810574</td>\n",
       "      <td>0.467012</td>\n",
       "      <td>0.792228</td>\n",
       "    </tr>\n",
       "    <tr>\n",
       "      <th>University Rating</th>\n",
       "      <td>-0.067641</td>\n",
       "      <td>0.635376</td>\n",
       "      <td>0.649799</td>\n",
       "      <td>1.000000</td>\n",
       "      <td>0.728024</td>\n",
       "      <td>0.608651</td>\n",
       "      <td>0.705254</td>\n",
       "      <td>0.427047</td>\n",
       "      <td>0.690132</td>\n",
       "    </tr>\n",
       "    <tr>\n",
       "      <th>SOP</th>\n",
       "      <td>-0.137352</td>\n",
       "      <td>0.613498</td>\n",
       "      <td>0.644410</td>\n",
       "      <td>0.728024</td>\n",
       "      <td>1.000000</td>\n",
       "      <td>0.663707</td>\n",
       "      <td>0.712154</td>\n",
       "      <td>0.408116</td>\n",
       "      <td>0.684137</td>\n",
       "    </tr>\n",
       "    <tr>\n",
       "      <th>LOR</th>\n",
       "      <td>-0.003694</td>\n",
       "      <td>0.524679</td>\n",
       "      <td>0.541563</td>\n",
       "      <td>0.608651</td>\n",
       "      <td>0.663707</td>\n",
       "      <td>1.000000</td>\n",
       "      <td>0.637469</td>\n",
       "      <td>0.372526</td>\n",
       "      <td>0.645365</td>\n",
       "    </tr>\n",
       "    <tr>\n",
       "      <th>CGPA</th>\n",
       "      <td>-0.074289</td>\n",
       "      <td>0.825878</td>\n",
       "      <td>0.810574</td>\n",
       "      <td>0.705254</td>\n",
       "      <td>0.712154</td>\n",
       "      <td>0.637469</td>\n",
       "      <td>1.000000</td>\n",
       "      <td>0.501311</td>\n",
       "      <td>0.882413</td>\n",
       "    </tr>\n",
       "    <tr>\n",
       "      <th>Research</th>\n",
       "      <td>-0.005332</td>\n",
       "      <td>0.563398</td>\n",
       "      <td>0.467012</td>\n",
       "      <td>0.427047</td>\n",
       "      <td>0.408116</td>\n",
       "      <td>0.372526</td>\n",
       "      <td>0.501311</td>\n",
       "      <td>1.000000</td>\n",
       "      <td>0.545871</td>\n",
       "    </tr>\n",
       "    <tr>\n",
       "      <th>Chance of Admit</th>\n",
       "      <td>0.008505</td>\n",
       "      <td>0.810351</td>\n",
       "      <td>0.792228</td>\n",
       "      <td>0.690132</td>\n",
       "      <td>0.684137</td>\n",
       "      <td>0.645365</td>\n",
       "      <td>0.882413</td>\n",
       "      <td>0.545871</td>\n",
       "      <td>1.000000</td>\n",
       "    </tr>\n",
       "  </tbody>\n",
       "</table>\n",
       "</div>"
      ],
      "text/plain": [
       "                   Serial No.  GRE Score  TOEFL Score  University Rating  \\\n",
       "Serial No.           1.000000  -0.103839    -0.141696          -0.067641   \n",
       "GRE Score           -0.103839   1.000000     0.827200           0.635376   \n",
       "TOEFL Score         -0.141696   0.827200     1.000000           0.649799   \n",
       "University Rating   -0.067641   0.635376     0.649799           1.000000   \n",
       "SOP                 -0.137352   0.613498     0.644410           0.728024   \n",
       "LOR                 -0.003694   0.524679     0.541563           0.608651   \n",
       "CGPA                -0.074289   0.825878     0.810574           0.705254   \n",
       "Research            -0.005332   0.563398     0.467012           0.427047   \n",
       "Chance of Admit      0.008505   0.810351     0.792228           0.690132   \n",
       "\n",
       "                        SOP      LOR       CGPA  Research  Chance of Admit   \n",
       "Serial No.        -0.137352 -0.003694 -0.074289 -0.005332          0.008505  \n",
       "GRE Score          0.613498  0.524679  0.825878  0.563398          0.810351  \n",
       "TOEFL Score        0.644410  0.541563  0.810574  0.467012          0.792228  \n",
       "University Rating  0.728024  0.608651  0.705254  0.427047          0.690132  \n",
       "SOP                1.000000  0.663707  0.712154  0.408116          0.684137  \n",
       "LOR                0.663707  1.000000  0.637469  0.372526          0.645365  \n",
       "CGPA               0.712154  0.637469  1.000000  0.501311          0.882413  \n",
       "Research           0.408116  0.372526  0.501311  1.000000          0.545871  \n",
       "Chance of Admit    0.684137  0.645365  0.882413  0.545871          1.000000  "
      ]
     },
     "execution_count": 6,
     "metadata": {},
     "output_type": "execute_result"
    }
   ],
   "source": [
    "df.corr()"
   ]
  },
  {
   "cell_type": "code",
   "execution_count": 10,
   "id": "44137406",
   "metadata": {},
   "outputs": [],
   "source": [
    "df_res_1 = df[df['Research']==1]\n",
    "df_res_0 = df[df['Research']==0]"
   ]
  },
  {
   "cell_type": "code",
   "execution_count": 25,
   "id": "64e9dee3",
   "metadata": {},
   "outputs": [
    {
     "data": {
      "text/plain": [
       "(220, 9)"
      ]
     },
     "execution_count": 25,
     "metadata": {},
     "output_type": "execute_result"
    }
   ],
   "source": [
    "df_res_0.shape"
   ]
  },
  {
   "cell_type": "code",
   "execution_count": 13,
   "id": "cdcb780d",
   "metadata": {},
   "outputs": [
    {
     "data": {
      "text/html": [
       "<div>\n",
       "<style scoped>\n",
       "    .dataframe tbody tr th:only-of-type {\n",
       "        vertical-align: middle;\n",
       "    }\n",
       "\n",
       "    .dataframe tbody tr th {\n",
       "        vertical-align: top;\n",
       "    }\n",
       "\n",
       "    .dataframe thead th {\n",
       "        text-align: right;\n",
       "    }\n",
       "</style>\n",
       "<table border=\"1\" class=\"dataframe\">\n",
       "  <thead>\n",
       "    <tr style=\"text-align: right;\">\n",
       "      <th></th>\n",
       "      <th>Serial No.</th>\n",
       "      <th>GRE Score</th>\n",
       "      <th>TOEFL Score</th>\n",
       "      <th>University Rating</th>\n",
       "      <th>SOP</th>\n",
       "      <th>LOR</th>\n",
       "      <th>CGPA</th>\n",
       "      <th>Research</th>\n",
       "      <th>Chance of Admit</th>\n",
       "    </tr>\n",
       "  </thead>\n",
       "  <tbody>\n",
       "    <tr>\n",
       "      <th>Serial No.</th>\n",
       "      <td>1.000000</td>\n",
       "      <td>-0.094895</td>\n",
       "      <td>-0.140706</td>\n",
       "      <td>-0.058624</td>\n",
       "      <td>-0.109004</td>\n",
       "      <td>0.010475</td>\n",
       "      <td>-0.049214</td>\n",
       "      <td>NaN</td>\n",
       "      <td>0.024458</td>\n",
       "    </tr>\n",
       "    <tr>\n",
       "      <th>GRE Score</th>\n",
       "      <td>-0.094895</td>\n",
       "      <td>1.000000</td>\n",
       "      <td>0.824170</td>\n",
       "      <td>0.614739</td>\n",
       "      <td>0.613318</td>\n",
       "      <td>0.443374</td>\n",
       "      <td>0.806720</td>\n",
       "      <td>NaN</td>\n",
       "      <td>0.802439</td>\n",
       "    </tr>\n",
       "    <tr>\n",
       "      <th>TOEFL Score</th>\n",
       "      <td>-0.140706</td>\n",
       "      <td>0.824170</td>\n",
       "      <td>1.000000</td>\n",
       "      <td>0.602445</td>\n",
       "      <td>0.629436</td>\n",
       "      <td>0.436199</td>\n",
       "      <td>0.784173</td>\n",
       "      <td>NaN</td>\n",
       "      <td>0.787180</td>\n",
       "    </tr>\n",
       "    <tr>\n",
       "      <th>University Rating</th>\n",
       "      <td>-0.058624</td>\n",
       "      <td>0.614739</td>\n",
       "      <td>0.602445</td>\n",
       "      <td>1.000000</td>\n",
       "      <td>0.723126</td>\n",
       "      <td>0.573881</td>\n",
       "      <td>0.692237</td>\n",
       "      <td>NaN</td>\n",
       "      <td>0.713094</td>\n",
       "    </tr>\n",
       "    <tr>\n",
       "      <th>SOP</th>\n",
       "      <td>-0.109004</td>\n",
       "      <td>0.613318</td>\n",
       "      <td>0.629436</td>\n",
       "      <td>0.723126</td>\n",
       "      <td>1.000000</td>\n",
       "      <td>0.591858</td>\n",
       "      <td>0.717750</td>\n",
       "      <td>NaN</td>\n",
       "      <td>0.708238</td>\n",
       "    </tr>\n",
       "    <tr>\n",
       "      <th>LOR</th>\n",
       "      <td>0.010475</td>\n",
       "      <td>0.443374</td>\n",
       "      <td>0.436199</td>\n",
       "      <td>0.573881</td>\n",
       "      <td>0.591858</td>\n",
       "      <td>1.000000</td>\n",
       "      <td>0.564794</td>\n",
       "      <td>NaN</td>\n",
       "      <td>0.588558</td>\n",
       "    </tr>\n",
       "    <tr>\n",
       "      <th>CGPA</th>\n",
       "      <td>-0.049214</td>\n",
       "      <td>0.806720</td>\n",
       "      <td>0.784173</td>\n",
       "      <td>0.692237</td>\n",
       "      <td>0.717750</td>\n",
       "      <td>0.564794</td>\n",
       "      <td>1.000000</td>\n",
       "      <td>NaN</td>\n",
       "      <td>0.892489</td>\n",
       "    </tr>\n",
       "    <tr>\n",
       "      <th>Research</th>\n",
       "      <td>NaN</td>\n",
       "      <td>NaN</td>\n",
       "      <td>NaN</td>\n",
       "      <td>NaN</td>\n",
       "      <td>NaN</td>\n",
       "      <td>NaN</td>\n",
       "      <td>NaN</td>\n",
       "      <td>NaN</td>\n",
       "      <td>NaN</td>\n",
       "    </tr>\n",
       "    <tr>\n",
       "      <th>Chance of Admit</th>\n",
       "      <td>0.024458</td>\n",
       "      <td>0.802439</td>\n",
       "      <td>0.787180</td>\n",
       "      <td>0.713094</td>\n",
       "      <td>0.708238</td>\n",
       "      <td>0.588558</td>\n",
       "      <td>0.892489</td>\n",
       "      <td>NaN</td>\n",
       "      <td>1.000000</td>\n",
       "    </tr>\n",
       "  </tbody>\n",
       "</table>\n",
       "</div>"
      ],
      "text/plain": [
       "                   Serial No.  GRE Score  TOEFL Score  University Rating  \\\n",
       "Serial No.           1.000000  -0.094895    -0.140706          -0.058624   \n",
       "GRE Score           -0.094895   1.000000     0.824170           0.614739   \n",
       "TOEFL Score         -0.140706   0.824170     1.000000           0.602445   \n",
       "University Rating   -0.058624   0.614739     0.602445           1.000000   \n",
       "SOP                 -0.109004   0.613318     0.629436           0.723126   \n",
       "LOR                  0.010475   0.443374     0.436199           0.573881   \n",
       "CGPA                -0.049214   0.806720     0.784173           0.692237   \n",
       "Research                  NaN        NaN          NaN                NaN   \n",
       "Chance of Admit      0.024458   0.802439     0.787180           0.713094   \n",
       "\n",
       "                        SOP      LOR       CGPA  Research  Chance of Admit   \n",
       "Serial No.        -0.109004  0.010475 -0.049214       NaN          0.024458  \n",
       "GRE Score          0.613318  0.443374  0.806720       NaN          0.802439  \n",
       "TOEFL Score        0.629436  0.436199  0.784173       NaN          0.787180  \n",
       "University Rating  0.723126  0.573881  0.692237       NaN          0.713094  \n",
       "SOP                1.000000  0.591858  0.717750       NaN          0.708238  \n",
       "LOR                0.591858  1.000000  0.564794       NaN          0.588558  \n",
       "CGPA               0.717750  0.564794  1.000000       NaN          0.892489  \n",
       "Research                NaN       NaN       NaN       NaN               NaN  \n",
       "Chance of Admit    0.708238  0.588558  0.892489       NaN          1.000000  "
      ]
     },
     "execution_count": 13,
     "metadata": {},
     "output_type": "execute_result"
    }
   ],
   "source": [
    "df_res_1.corr()"
   ]
  },
  {
   "cell_type": "code",
   "execution_count": 52,
   "id": "f5482fbc",
   "metadata": {},
   "outputs": [],
   "source": [
    "TOEFL = df_res_0['TOEFL Score']\n",
    "CGPA = df_res_0['CGPA']\n",
    "\n",
    "A = np.column_stack((np.ones(220), TOEFL, CGPA))\n",
    "A\n",
    "y = df_res_0[['Chance of Admit ']]\n"
   ]
  },
  {
   "cell_type": "code",
   "execution_count": 53,
   "id": "a348c340",
   "metadata": {},
   "outputs": [],
   "source": [
    "TOEFL_mean = TOEFL.mean()\n",
    "CGPA_mean = CGPA.mean()\n",
    "y_mean = y.mean()"
   ]
  },
  {
   "cell_type": "code",
   "execution_count": 54,
   "id": "038aa89a",
   "metadata": {},
   "outputs": [],
   "source": [
    "TOEFL_c = TOEFL - TOEFL_mean\n",
    "CGPA_c  = CGPA - CGPA_mean\n",
    "y_c = y-y_mean"
   ]
  },
  {
   "cell_type": "code",
   "execution_count": 55,
   "id": "6314ab5e",
   "metadata": {},
   "outputs": [],
   "source": [
    "TOEFL_norm = np.linalg.norm(TOEFL_c)\n",
    "CGPA_norm = np.linalg.norm(CGPA_c)\n",
    "y_norm = np.linalg.norm(y_c)"
   ]
  },
  {
   "cell_type": "code",
   "execution_count": 56,
   "id": "0d384be3",
   "metadata": {},
   "outputs": [],
   "source": [
    "TOEFL_st  = TOEFL_c/TOEFL_norm\n",
    "CGPA_st  = CGPA_c/CGPA_norm\n",
    "y_st  = y_c/y_norm\n",
    "A_st = np.column_stack((TOEFL_st, CGPA_st))\n"
   ]
  },
  {
   "cell_type": "code",
   "execution_count": 57,
   "id": "b4641845",
   "metadata": {},
   "outputs": [
    {
     "data": {
      "text/plain": [
       "array([[0.19044768],\n",
       "       [0.62001517]])"
      ]
     },
     "execution_count": 57,
     "metadata": {},
     "output_type": "execute_result"
    }
   ],
   "source": [
    "np.linalg.inv(A_st.T@A_st)@A_st.T@y_st.values"
   ]
  },
  {
   "cell_type": "code",
   "execution_count": 34,
   "id": "10905381",
   "metadata": {},
   "outputs": [],
   "source": [
    "new = np.array([1,TOEFL_Score, CGPA])"
   ]
  },
  {
   "cell_type": "code",
   "execution_count": 35,
   "id": "5ebaae37",
   "metadata": {},
   "outputs": [
    {
     "data": {
      "text/plain": [
       "Chance of Admit     0.776359\n",
       "dtype: float64"
      ]
     },
     "execution_count": 35,
     "metadata": {},
     "output_type": "execute_result"
    }
   ],
   "source": [
    "new@w_hat"
   ]
  },
  {
   "cell_type": "code",
   "execution_count": null,
   "id": "8c413562",
   "metadata": {},
   "outputs": [],
   "source": []
  }
 ],
 "metadata": {
  "kernelspec": {
   "display_name": "Python 3",
   "language": "python",
   "name": "python3"
  },
  "language_info": {
   "codemirror_mode": {
    "name": "ipython",
    "version": 3
   },
   "file_extension": ".py",
   "mimetype": "text/x-python",
   "name": "python",
   "nbconvert_exporter": "python",
   "pygments_lexer": "ipython3",
   "version": "3.8.8"
  }
 },
 "nbformat": 4,
 "nbformat_minor": 5
}
